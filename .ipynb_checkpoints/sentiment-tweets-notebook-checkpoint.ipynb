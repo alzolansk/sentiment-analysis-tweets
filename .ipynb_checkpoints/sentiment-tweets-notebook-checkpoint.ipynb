{
 "cells": [
  {
   "cell_type": "markdown",
   "id": "3a7d0c55-436a-41e6-9778-3be938fa9c84",
   "metadata": {},
   "source": [
    "# "
   ]
  },
  {
   "cell_type": "code",
   "execution_count": 78,
   "id": "c2193c80-9184-4f25-a570-44ee4a26e31b",
   "metadata": {},
   "outputs": [],
   "source": [
    "# 📦 Imports\n",
    "import pandas as pd\n",
    "from deep_translator import GoogleTranslator\n",
    "from textblob import TextBlob\n",
    "import matplotlib.pyplot as plt\n",
    "import seaborn as sns\n",
    "import os\n",
    "from tqdm import tqdm\n",
    "tqdm.pandas()"
   ]
  },
  {
   "cell_type": "code",
   "execution_count": 79,
   "id": "76668d89-71c6-41ac-816e-0949021d8245",
   "metadata": {
    "jupyter": {
     "source_hidden": true
    }
   },
   "outputs": [],
   "source": [
    "if os.path.exists('data/Emotion_traduzido.csv'):\n",
    "    df = pd.read_csv('data/Emotion_traduzido.csv')\n",
    "else:\n",
    "    df = pd.read_csv('data/Emotion_final.csv')\n",
    "    df['Translation'] = df['Text'].progress_apply(lambda x: GoogleTranslator(source='auto', target='pt').translate(x))\n",
    "\n",
    "    emocoes_en = ['sadness', 'anger', 'love', 'surprise', 'fear', 'happy']\n",
    "    emocoes_pt = ['tristeza', 'raiva', 'amor', 'surpresa', 'medo', 'felicidade']\n",
    "    traducao_manual = dict(zip(emocoes_en, emocoes_pt))\n",
    "    df['Emotion_Traduzida'] = df['Emotion'].map(traducao_manual)\n",
    "\n",
    "    df.to_csv('data/Emotion_traduzido.csv', index=False)"
   ]
  },
  {
   "cell_type": "code",
   "execution_count": 99,
   "id": "5806fb24-491d-4fe1-8be6-84a5f9001dd9",
   "metadata": {
    "jupyter": {
     "source_hidden": true
    }
   },
   "outputs": [],
   "source": [
    "df['Polarity'] = df['Text'].apply(lambda x: TextBlob(x).sentiment.polarity)\n",
    "\n",
    "def classificar_sentimento(p):\n",
    "    if p > 0.1:\n",
    "        return 'positivo'\n",
    "    elif p < -0.1:\n",
    "        return 'negativo'\n",
    "    else:\n",
    "        return 'neutro'\n",
    "\n",
    "df['Sentiment_Label'] = df['Polarity'].apply(classificar_sentimento)"
   ]
  },
  {
   "cell_type": "code",
   "execution_count": 104,
   "id": "df75d9bc-5f8b-479e-a6c9-fc2e3ce81c73",
   "metadata": {},
   "outputs": [
    {
     "data": {
      "image/png": "[encoded data removed]",
      "text/plain": [
       "<Figure size 640x480 with 1 Axes>"
      ]
     },
     "metadata": {},
     "output_type": "display_data"
    }
   ],
   "source": [
    "sns.countplot(data=df, x='Sentiment_Label', hue='Sentiment_Label', palette='pastel', legend=False)\n",
    "plt.title('Distribuição dos Sentimentos Detectados')\n",
    "plt.xlabel('Sentimento')\n",
    "plt.ylabel('Quantidade')\n",
    "plt.show()"
   ]
  },
  {
   "cell_type": "code",
   "execution_count": 106,
   "id": "d59c5106-a5d0-43f2-a05a-7b0c6b4ce933",
   "metadata": {
    "collapsed": true,
    "jupyter": {
     "outputs_hidden": true
    }
   },
   "outputs": [
    {
     "data": {
      "text/html": [
       "<div>\n",
       "<style scoped>\n",
       "    .dataframe tbody tr th:only-of-type {\n",
       "        vertical-align: middle;\n",
       "    }\n",
       "\n",
       "    .dataframe tbody tr th {\n",
       "        vertical-align: top;\n",
       "    }\n",
       "\n",
       "    .dataframe thead th {\n",
       "        text-align: right;\n",
       "    }\n",
       "</style>\n",
       "<table border=\"1\" class=\"dataframe\">\n",
       "  <thead>\n",
       "    <tr style=\"text-align: right;\">\n",
       "      <th>Sentiment_Label</th>\n",
       "      <th>negativo</th>\n",
       "      <th>neutro</th>\n",
       "      <th>positivo</th>\n",
       "    </tr>\n",
       "    <tr>\n",
       "      <th>Emotion</th>\n",
       "      <th></th>\n",
       "      <th></th>\n",
       "      <th></th>\n",
       "    </tr>\n",
       "  </thead>\n",
       "  <tbody>\n",
       "    <tr>\n",
       "      <th>anger</th>\n",
       "      <td>34</td>\n",
       "      <td>24</td>\n",
       "      <td>10</td>\n",
       "    </tr>\n",
       "    <tr>\n",
       "      <th>fear</th>\n",
       "      <td>24</td>\n",
       "      <td>33</td>\n",
       "      <td>21</td>\n",
       "    </tr>\n",
       "    <tr>\n",
       "      <th>happy</th>\n",
       "      <td>9</td>\n",
       "      <td>45</td>\n",
       "      <td>95</td>\n",
       "    </tr>\n",
       "    <tr>\n",
       "      <th>love</th>\n",
       "      <td>3</td>\n",
       "      <td>6</td>\n",
       "      <td>20</td>\n",
       "    </tr>\n",
       "    <tr>\n",
       "      <th>sadness</th>\n",
       "      <td>58</td>\n",
       "      <td>57</td>\n",
       "      <td>39</td>\n",
       "    </tr>\n",
       "    <tr>\n",
       "      <th>surprise</th>\n",
       "      <td>5</td>\n",
       "      <td>10</td>\n",
       "      <td>7</td>\n",
       "    </tr>\n",
       "  </tbody>\n",
       "</table>\n",
       "</div>"
      ],
      "text/plain": [
       "Sentiment_Label  negativo  neutro  positivo\n",
       "Emotion                                    \n",
       "anger                  34      24        10\n",
       "fear                   24      33        21\n",
       "happy                   9      45        95\n",
       "love                    3       6        20\n",
       "sadness                58      57        39\n",
       "surprise                5      10         7"
      ]
     },
     "execution_count": 106,
     "metadata": {},
     "output_type": "execute_result"
    }
   ],
   "source": [
    "pd.crosstab(df['Emotion'], df['Sentiment_Label'])"
   ]
  },
  {
   "cell_type": "code",
   "execution_count": 116,
   "id": "2240ea3e-be93-4182-9f5a-e7c5acb63083",
   "metadata": {
    "collapsed": true,
    "jupyter": {
     "outputs_hidden": true
    }
   },
   "outputs": [
    {
     "data": {
      "text/html": [
       "<div>\n",
       "<style scoped>\n",
       "    .dataframe tbody tr th:only-of-type {\n",
       "        vertical-align: middle;\n",
       "    }\n",
       "\n",
       "    .dataframe tbody tr th {\n",
       "        vertical-align: top;\n",
       "    }\n",
       "\n",
       "    .dataframe thead th {\n",
       "        text-align: right;\n",
       "    }\n",
       "</style>\n",
       "<table border=\"1\" class=\"dataframe\">\n",
       "  <thead>\n",
       "    <tr style=\"text-align: right;\">\n",
       "      <th></th>\n",
       "      <th>Text</th>\n",
       "      <th>Polarity</th>\n",
       "    </tr>\n",
       "  </thead>\n",
       "  <tbody>\n",
       "    <tr>\n",
       "      <th>5</th>\n",
       "      <td>i feel angry im happy</td>\n",
       "      <td>0.150000</td>\n",
       "    </tr>\n",
       "    <tr>\n",
       "      <th>183</th>\n",
       "      <td>i see people who have accomplished so much mor...</td>\n",
       "      <td>0.116667</td>\n",
       "    </tr>\n",
       "    <tr>\n",
       "      <th>282</th>\n",
       "      <td>Furious Tory MPs now want to go to the High Co...</td>\n",
       "      <td>0.148182</td>\n",
       "    </tr>\n",
       "    <tr>\n",
       "      <th>283</th>\n",
       "      <td>i feel like it but i cant i cant give in i am ...</td>\n",
       "      <td>0.800000</td>\n",
       "    </tr>\n",
       "    <tr>\n",
       "      <th>297</th>\n",
       "      <td>when it became clear that a man had used many ...</td>\n",
       "      <td>0.275000</td>\n",
       "    </tr>\n",
       "    <tr>\n",
       "      <th>314</th>\n",
       "      <td>i dont know why for some reason i feel really ...</td>\n",
       "      <td>0.200000</td>\n",
       "    </tr>\n",
       "    <tr>\n",
       "      <th>340</th>\n",
       "      <td>i feel like people like this arent getting cau...</td>\n",
       "      <td>0.500000</td>\n",
       "    </tr>\n",
       "    <tr>\n",
       "      <th>381</th>\n",
       "      <td>i feel more hostile towards sarcoidosis than u...</td>\n",
       "      <td>0.125000</td>\n",
       "    </tr>\n",
       "    <tr>\n",
       "      <th>414</th>\n",
       "      <td>i was playing a sport in an advanced pe class ...</td>\n",
       "      <td>0.233333</td>\n",
       "    </tr>\n",
       "    <tr>\n",
       "      <th>430</th>\n",
       "      <td>i feel to being distracted with things that ta...</td>\n",
       "      <td>0.500000</td>\n",
       "    </tr>\n",
       "  </tbody>\n",
       "</table>\n",
       "</div>"
      ],
      "text/plain": [
       "                                                  Text  Polarity\n",
       "5                                i feel angry im happy  0.150000\n",
       "183  i see people who have accomplished so much mor...  0.116667\n",
       "282  Furious Tory MPs now want to go to the High Co...  0.148182\n",
       "283  i feel like it but i cant i cant give in i am ...  0.800000\n",
       "297  when it became clear that a man had used many ...  0.275000\n",
       "314  i dont know why for some reason i feel really ...  0.200000\n",
       "340  i feel like people like this arent getting cau...  0.500000\n",
       "381  i feel more hostile towards sarcoidosis than u...  0.125000\n",
       "414  i was playing a sport in an advanced pe class ...  0.233333\n",
       "430  i feel to being distracted with things that ta...  0.500000"
      ]
     },
     "execution_count": 116,
     "metadata": {},
     "output_type": "execute_result"
    }
   ],
   "source": [
    "df[(df['Sentiment_Label'] == 'positivo') & (df['Emotion'] == 'anger')][['Text', 'Polarity']]"
   ]
  },
  {
   "cell_type": "code",
   "execution_count": 121,
   "id": "7de932d6-977f-48f8-89df-79e1744107a2",
   "metadata": {},
   "outputs": [],
   "source": [
    "df.to_excel('data/resultado_final.xlsx', index=False)"
   ]
  }
 ],
 "metadata": {
  "kernelspec": {
   "display_name": "Python 3 (ipykernel)",
   "language": "python",
   "name": "python3"
  },
  "language_info": {
   "codemirror_mode": {
    "name": "ipython",
    "version": 3
   },
   "file_extension": ".py",
   "mimetype": "text/x-python",
   "name": "python",
   "nbconvert_exporter": "python",
   "pygments_lexer": "ipython3",
   "version": "3.12.10"
  }
 },
 "nbformat": 4,
 "nbformat_minor": 5
}
